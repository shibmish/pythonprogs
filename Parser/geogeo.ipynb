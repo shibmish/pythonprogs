{
 "cells": [
  {
   "cell_type": "code",
   "execution_count": 1,
   "metadata": {},
   "outputs": [],
   "source": [
    "import requests as rq\n",
    "from bs4 import BeautifulSoup\n",
    "HOST = 'http://pushkinmuseum.ru/'\n",
    "URL = 'http://pushkinmuseum.ru/?q=com-push-mus/museums'\n",
    "HEADERS = {\n",
    "    'User-Agent': 'Mozilla/5.0 (Windows NT 10.0; WOW64) AppleWebKit/537.36 (KHTML, like Gecko) Chrome/89.0.4389.86 YaBrowser/21.3.1.186 Yowser/2.5 Safari/537.36',\n",
    "    'Accept' : 'text/html,application/xhtml+xml,application/xml;q=0.9,image/avif,image/webp,image/apng,*/*;q=0.8,application/signed-exchange;v=b3;q=0.9'\n",
    "}\n",
    "\n",
    "\n",
    "def get_html(url):\n",
    "    response = rq.get(URL,headers = HEADERS)\n",
    "    response.raise_for_status()\n",
    "    soup = BeautifulSoup(response.content, 'html.parser')\n",
    "    return soup\n",
    "\n",
    "ar = get_html(URL)\n",
    "#print(ar)"
   ]
  },
  {
   "cell_type": "code",
   "execution_count": 2,
   "metadata": {},
   "outputs": [
    {
     "data": {
      "text/plain": [
       "['санкт-петербург, наб. реки мойки, 12',\n",
       " 'московская область, одинцовский район,',\n",
       " 'нижегородская область, с. большое болдино,',\n",
       " 'псковская область, пос. пушкинские горы,',\n",
       " 'москва, пречистенка, 12/2',\n",
       " 'московская область, подольский р-н,',\n",
       " 'молдова, г. кишинев, ул. антона панна, 19.',\n",
       " 'украина, киев, ул. кудрявская, 9',\n",
       " 'украина, черкасская область, г. каменка, ул. декабристов, 5',\n",
       " 'россия, г. ульяновск, ул. советская, 22.',\n",
       " 'г. вильнюс, ул. субачяус, 124',\n",
       " 'санкт-петербург, наб. макарова, д. 4',\n",
       " 'калужская обл., дзержинский р-н, п. полотняный завод,',\n",
       " 'украина, г. одесса, ул. пушкинская, 13',\n",
       " 'ленинградская область. гатчинский р-он, д. выра, большой пр., д. 32-а',\n",
       " 'ленинградская область, гатчинский район, дер. кобрино',\n",
       " 'украина, г. днепропетровск, пр. к. маркса, 64',\n",
       " 'тверская область, старицкий р-н, с. берново',\n",
       " 'крым, пгт. гурзуф, ул. набережная, д. 3',\n",
       " 'город торжок, ул. дзержинского, дом 71',\n",
       " 'г. казань, ул. м. горького, д. 25/28',\n",
       " 'московская область, г. чехов, ул. пушкина, 10',\n",
       " 'г. оренбург, ул. советская, 28',\n",
       " 'московская область, волоколамский район,']"
      ]
     },
     "execution_count": 2,
     "metadata": {},
     "output_type": "execute_result"
    }
   ],
   "source": [
    "from time import sleep\n",
    "def get_content(a):\n",
    "    items = a.find('div', class_ = 'view-content')\n",
    "    cards = []\n",
    "    res = {}\n",
    "    names = []\n",
    "    sites = []\n",
    "    adresses = []\n",
    "    text = items.get_text().lower().splitlines()\n",
    "    text = list(filter(str.strip, text))\n",
    "    for i in text:\n",
    "        if  'музей' in i:\n",
    "            names.append(i)\n",
    "        elif 'официальный сайт' in i:\n",
    "            sites.append(i.partition(':')[2].strip())\n",
    "        elif 'адрес' in i:\n",
    "            adresses.append(i.partition(':')[2].strip())\n",
    "    return names,sites,adresses\n",
    "       \n",
    "\n",
    "\n",
    "names,sites, adresses = get_content(ar) \n",
    "coords = []\n",
    "#cor1 = nom_geo('names[0]')\n",
    "adresses\n"
   ]
  },
  {
   "cell_type": "code",
   "execution_count": null,
   "metadata": {},
   "outputs": [],
   "source": []
  }
 ],
 "metadata": {
  "kernelspec": {
   "display_name": "Python 3",
   "language": "python",
   "name": "python3"
  },
  "language_info": {
   "codemirror_mode": {
    "name": "ipython",
    "version": 3
   },
   "file_extension": ".py",
   "mimetype": "text/x-python",
   "name": "python",
   "nbconvert_exporter": "python",
   "pygments_lexer": "ipython3",
   "version": "3.8.3"
  }
 },
 "nbformat": 4,
 "nbformat_minor": 4
}
